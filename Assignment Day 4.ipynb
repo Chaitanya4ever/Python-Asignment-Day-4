{
 "cells": [
  {
   "cell_type": "code",
   "execution_count": 10,
   "metadata": {},
   "outputs": [
    {
     "name": "stdout",
     "output_type": "stream",
     "text": [
      " * * * * * * * * *\t\n",
      " *\t\t *\n",
      " *\t\t *\n",
      " *\t\t *\n",
      " *\t\t *\n",
      " *\t\t *\n",
      " * * * * * * * * *\n",
      "\n"
     ]
    }
   ],
   "source": [
    "# 1) Draw Square\n",
    "print(' * * * * * * * * *\\t\\n','*\\t\\t *\\n','*\\t\\t *\\n','*\\t\\t *\\n','*\\t\\t *\\n','*\\t\\t *\\n','* * * * * * * * *\\n')"
   ]
  },
  {
   "cell_type": "code",
   "execution_count": 44,
   "metadata": {},
   "outputs": [
    {
     "name": "stdout",
     "output_type": "stream",
     "text": [
      "      *\n",
      "    *\t*\n",
      "   * * * *\n"
     ]
    }
   ],
   "source": [
    "# 2) Draw Triangle\n",
    "print('      *\\n','   *\\t*\\n','  * * * *')"
   ]
  },
  {
   "cell_type": "code",
   "execution_count": 5,
   "metadata": {},
   "outputs": [
    {
     "name": "stdout",
     "output_type": "stream",
     "text": [
      "   * * *  \n",
      " *\t *\n",
      " *\t *\n",
      "   * * *   \n"
     ]
    }
   ],
   "source": [
    "# 3) Draw Circle\n",
    "print('   * * *  \\n','*\\t','*\\n','*\\t','*\\n','  * * *   ')"
   ]
  },
  {
   "cell_type": "code",
   "execution_count": 2,
   "metadata": {},
   "outputs": [
    {
     "name": "stdout",
     "output_type": "stream",
     "text": [
      "enter first number: 4.2\n",
      "enter second numbar: 0.5\n",
      "The sum of 4.2 and 0.5 is 4.7\n",
      "The subtraction of 4.2 and 0.5 is 3.7\n",
      "The Multiplication of 4.2 and 0.5 is 2.1\n",
      "The Division of 4.2 and 0.5 is 8.4\n"
     ]
    }
   ],
   "source": [
    "# 3) Program for Sum, sum mult and divi\n",
    "num1 = input('enter first number: ') \n",
    "num2 = input('enter second numbar: ') \n",
    "sum = float(num1) + float(num2) \n",
    "sub = float(num1) - float(num2) \n",
    "mul = float(num1) * float(num2)\n",
    "div = float(num1) / float(num2) \n",
    "print('The sum of {0} and {1} is {2}'.format(num1, num2, sum)) \n",
    "print('The subtraction of {0} and {1} is {2}'.format(num1, num2, sub)) \n",
    "print('The Multiplication of {0} and {1} is {2}'.format(num1, num2, mul)) \n",
    "print('The Division of {0} and {1} is {2}'.format(num1, num2, div))"
   ]
  },
  {
   "cell_type": "code",
   "execution_count": 7,
   "metadata": {},
   "outputs": [
    {
     "name": "stdout",
     "output_type": "stream",
     "text": [
      "Hello to all welcome to the World of Python and let us all come together to learn a new  Language\n"
     ]
    }
   ],
   "source": [
    "# 4) Program for String nown in capital\n",
    "word1 = 'world'\n",
    "word2 = 'python'\n",
    "word3 = 'language'\n",
    "print('Hello to all welcome to the {0} of {1} and let us all come together to learn a new  {2}'\n",
    "      .format(word1.title(), word2.title(), word3.title()))"
   ]
  },
  {
   "cell_type": "code",
   "execution_count": 9,
   "metadata": {},
   "outputs": [
    {
     "name": "stdout",
     "output_type": "stream",
     "text": [
      "Enter value of x: 5\n",
      "Enter value of y: 2\n",
      "The value of x after swapping: 2\n",
      "The value of y after swapping: 5\n"
     ]
    }
   ],
   "source": [
    "# 5) Program for swapping\n",
    "x = input('Enter value of x: ')\n",
    "y = input('Enter value of y: ')\n",
    "\n",
    "temp = x\n",
    "x = y\n",
    "y = temp \n",
    "print('The value of x after swapping: {}'.format(x))\n",
    "print('The value of y after swapping: {}'.format(y))"
   ]
  },
  {
   "cell_type": "code",
   "execution_count": 1,
   "metadata": {},
   "outputs": [
    {
     "name": "stdout",
     "output_type": "stream",
     "text": [
      "['Chaitanya.', 'Good', 'Python', 'Welcome', 'is', 'morning,', 'my', 'name', 'programming.', 'the', 'to']\n"
     ]
    }
   ],
   "source": [
    "# 6) Program for sort words in alphabetical order.\n",
    "mystring = 'Good morning, my name is Chaitanya. Welcome to the Python programming.'\n",
    "words = mystring.split()\n",
    "words.sort()\n",
    "print(words)"
   ]
  },
  {
   "cell_type": "code",
   "execution_count": 2,
   "metadata": {},
   "outputs": [
    {
     "name": "stdout",
     "output_type": "stream",
     "text": [
      "Maximum number is:  500\n",
      "Maximum number is:  74\n"
     ]
    }
   ],
   "source": [
    "# 7) Program for find maximum and minimum of two numbers.\n",
    "a = 500\n",
    "b = 74\n",
    "print('Maximum number is: ',max(a,b))\n",
    "print('Maximum number is: ',min(a,b))"
   ]
  },
  {
   "cell_type": "code",
   "execution_count": 4,
   "metadata": {},
   "outputs": [
    {
     "name": "stdout",
     "output_type": "stream",
     "text": [
      "Enter first number: 5.1\n",
      "Enter second number: -4.1\n",
      "Enter third number: 0.4\n",
      "Maximum number is:  5.1\n",
      "Miniimum number is:  -4.1\n"
     ]
    }
   ],
   "source": [
    "# 8)Program for find maximum and minimum of three numbers with user input.\n",
    "num1 = input('Enter first number: ')\n",
    "num2 = input('Enter second number: ')\n",
    "num3 = input('Enter third number: ')\n",
    "print('Maximum number is: ',float(max(num1,num2,num3)))\n",
    "print('Miniimum number is: ',float(min(num1,num2,num3)))"
   ]
  }
 ],
 "metadata": {
  "kernelspec": {
   "display_name": "Python 3",
   "language": "python",
   "name": "python3"
  },
  "language_info": {
   "codemirror_mode": {
    "name": "ipython",
    "version": 3
   },
   "file_extension": ".py",
   "mimetype": "text/x-python",
   "name": "python",
   "nbconvert_exporter": "python",
   "pygments_lexer": "ipython3",
   "version": "3.8.5"
  }
 },
 "nbformat": 4,
 "nbformat_minor": 4
}
